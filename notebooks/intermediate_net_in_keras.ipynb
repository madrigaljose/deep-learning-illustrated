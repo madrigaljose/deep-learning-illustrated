{
  "nbformat": 4,
  "nbformat_minor": 0,
  "metadata": {
    "kernelspec": {
      "display_name": "Python 3",
      "language": "python",
      "name": "python3"
    },
    "language_info": {
      "codemirror_mode": {
        "name": "ipython",
        "version": 3
      },
      "file_extension": ".py",
      "mimetype": "text/x-python",
      "name": "python",
      "nbconvert_exporter": "python",
      "pygments_lexer": "ipython3",
      "version": "3.6.5"
    },
    "colab": {
      "name": "intermediate_net_in_keras.ipynb",
      "provenance": [],
      "include_colab_link": true
    }
  },
  "cells": [
    {
      "cell_type": "markdown",
      "metadata": {
        "id": "view-in-github",
        "colab_type": "text"
      },
      "source": [
        "<a href=\"https://colab.research.google.com/github/madrigaljose/deep-learning-illustrated/blob/master/notebooks/intermediate_net_in_keras.ipynb\" target=\"_parent\"><img src=\"https://colab.research.google.com/assets/colab-badge.svg\" alt=\"Open In Colab\"/></a>"
      ]
    },
    {
      "cell_type": "markdown",
      "metadata": {
        "id": "3Fo1vpXo35Tm"
      },
      "source": [
        "# Intermediate Neural Network in Keras"
      ]
    },
    {
      "cell_type": "markdown",
      "metadata": {
        "id": "BgLT6gwF35Tn"
      },
      "source": [
        "In this notebook, we improve our [introductory shallow net](https://github.com/the-deep-learners/deep-learning-illustrated/blob/master/notebooks/shallow_net_in_keras.ipynb) by applying the theory we have covered since. "
      ]
    },
    {
      "cell_type": "markdown",
      "metadata": {
        "id": "Et6hRpDA35To"
      },
      "source": [
        "[![Open In Colab](https://colab.research.google.com/assets/colab-badge.svg)](https://colab.research.google.com/github/the-deep-learners/deep-learning-illustrated/blob/master/notebooks/intermediate_net_in_keras.ipynb)"
      ]
    },
    {
      "cell_type": "markdown",
      "metadata": {
        "id": "Azj3Ee5d35To"
      },
      "source": [
        "#### Load dependencies"
      ]
    },
    {
      "cell_type": "code",
      "metadata": {
        "id": "SLArGCzp35Tp"
      },
      "source": [
        "import keras\n",
        "from keras.datasets import mnist\n",
        "from keras.models import Sequential\n",
        "from keras.layers import Dense\n",
        "from keras.optimizers import SGD"
      ],
      "execution_count": 26,
      "outputs": []
    },
    {
      "cell_type": "markdown",
      "metadata": {
        "id": "x6gvPc4235Tq"
      },
      "source": [
        "#### Load data"
      ]
    },
    {
      "cell_type": "code",
      "metadata": {
        "id": "X8apzKec35Tr"
      },
      "source": [
        "(X_train, y_train), (X_valid, y_valid) = mnist.load_data()"
      ],
      "execution_count": 27,
      "outputs": []
    },
    {
      "cell_type": "markdown",
      "metadata": {
        "id": "CjkLtR3-35Tr"
      },
      "source": [
        "#### Preprocess data"
      ]
    },
    {
      "cell_type": "code",
      "metadata": {
        "id": "E94u5cgo35Tr"
      },
      "source": [
        "X_train = X_train.reshape(60000, 784).astype('float32')\n",
        "X_valid = X_valid.reshape(10000, 784).astype('float32')"
      ],
      "execution_count": 28,
      "outputs": []
    },
    {
      "cell_type": "code",
      "metadata": {
        "id": "iNDfD6-e35Tr"
      },
      "source": [
        "X_train /= 255\n",
        "X_valid /= 255"
      ],
      "execution_count": 29,
      "outputs": []
    },
    {
      "cell_type": "code",
      "metadata": {
        "id": "BmviypvT35Ts"
      },
      "source": [
        "from tensorflow.keras.utils import to_categorical\n",
        "n_classes = 10\n",
        "y_train = to_categorical(y_train, n_classes)\n",
        "y_valid = to_categorical(y_valid, n_classes)"
      ],
      "execution_count": 30,
      "outputs": []
    },
    {
      "cell_type": "markdown",
      "metadata": {
        "id": "p9YIoBFE35Ts"
      },
      "source": [
        "#### Design neural network architecture"
      ]
    },
    {
      "cell_type": "code",
      "metadata": {
        "id": "KpkEOzJV35Ts"
      },
      "source": [
        "model = Sequential()\n",
        "model.add(Dense(64, activation='relu', input_shape=(784,)))\n",
        "model.add(Dense(64, activation='relu'))\n",
        "model.add(Dense(10, activation='softmax'))"
      ],
      "execution_count": 31,
      "outputs": []
    },
    {
      "cell_type": "code",
      "metadata": {
        "id": "eH2pMMtA35Tt",
        "outputId": "360f2f7f-0144-49be-c8c1-74be0ac67ff3",
        "colab": {
          "base_uri": "https://localhost:8080/"
        }
      },
      "source": [
        "model.summary()"
      ],
      "execution_count": 32,
      "outputs": [
        {
          "output_type": "stream",
          "text": [
            "Model: \"sequential_2\"\n",
            "_________________________________________________________________\n",
            "Layer (type)                 Output Shape              Param #   \n",
            "=================================================================\n",
            "dense_6 (Dense)              (None, 64)                50240     \n",
            "_________________________________________________________________\n",
            "dense_7 (Dense)              (None, 64)                4160      \n",
            "_________________________________________________________________\n",
            "dense_8 (Dense)              (None, 10)                650       \n",
            "=================================================================\n",
            "Total params: 55,050\n",
            "Trainable params: 55,050\n",
            "Non-trainable params: 0\n",
            "_________________________________________________________________\n"
          ],
          "name": "stdout"
        }
      ]
    },
    {
      "cell_type": "markdown",
      "metadata": {
        "id": "UC5G5VeF35Tt"
      },
      "source": [
        "#### Configure model"
      ]
    },
    {
      "cell_type": "code",
      "metadata": {
        "id": "ATAo4v4135Tt"
      },
      "source": [
        "model.compile(loss='categorical_crossentropy', optimizer=SGD(learning_rate=0.01), metrics=['accuracy'])"
      ],
      "execution_count": 33,
      "outputs": []
    },
    {
      "cell_type": "markdown",
      "metadata": {
        "id": "gp7JolDC35Tu"
      },
      "source": [
        "#### Train!"
      ]
    },
    {
      "cell_type": "code",
      "metadata": {
        "id": "gILizUFa35Tu",
        "outputId": "53f825fa-46b3-44b7-f11f-1bc58da3fa49",
        "colab": {
          "base_uri": "https://localhost:8080/"
        }
      },
      "source": [
        "model.fit(X_train, y_train, batch_size=128, epochs=40, verbose=1, validation_data=(X_valid, y_valid))"
      ],
      "execution_count": 38,
      "outputs": [
        {
          "output_type": "stream",
          "text": [
            "Epoch 1/40\n",
            "469/469 [==============================] - 1s 3ms/step - loss: 0.1746 - accuracy: 0.9506 - val_loss: 0.1761 - val_accuracy: 0.9479\n",
            "Epoch 2/40\n",
            "469/469 [==============================] - 1s 3ms/step - loss: 0.1702 - accuracy: 0.9521 - val_loss: 0.1727 - val_accuracy: 0.9491\n",
            "Epoch 3/40\n",
            "469/469 [==============================] - 1s 3ms/step - loss: 0.1661 - accuracy: 0.9530 - val_loss: 0.1694 - val_accuracy: 0.9500\n",
            "Epoch 4/40\n",
            "469/469 [==============================] - 1s 3ms/step - loss: 0.1621 - accuracy: 0.9542 - val_loss: 0.1650 - val_accuracy: 0.9515\n",
            "Epoch 5/40\n",
            "469/469 [==============================] - 1s 3ms/step - loss: 0.1582 - accuracy: 0.9554 - val_loss: 0.1621 - val_accuracy: 0.9530\n",
            "Epoch 6/40\n",
            "469/469 [==============================] - 1s 3ms/step - loss: 0.1547 - accuracy: 0.9566 - val_loss: 0.1604 - val_accuracy: 0.9530\n",
            "Epoch 7/40\n",
            "469/469 [==============================] - 1s 3ms/step - loss: 0.1512 - accuracy: 0.9577 - val_loss: 0.1562 - val_accuracy: 0.9552\n",
            "Epoch 8/40\n",
            "469/469 [==============================] - 1s 3ms/step - loss: 0.1479 - accuracy: 0.9585 - val_loss: 0.1540 - val_accuracy: 0.9546\n",
            "Epoch 9/40\n",
            "469/469 [==============================] - 1s 3ms/step - loss: 0.1447 - accuracy: 0.9598 - val_loss: 0.1521 - val_accuracy: 0.9570\n",
            "Epoch 10/40\n",
            "469/469 [==============================] - 1s 3ms/step - loss: 0.1417 - accuracy: 0.9609 - val_loss: 0.1488 - val_accuracy: 0.9571\n",
            "Epoch 11/40\n",
            "469/469 [==============================] - 1s 3ms/step - loss: 0.1385 - accuracy: 0.9615 - val_loss: 0.1478 - val_accuracy: 0.9582\n",
            "Epoch 12/40\n",
            "469/469 [==============================] - 1s 3ms/step - loss: 0.1361 - accuracy: 0.9624 - val_loss: 0.1448 - val_accuracy: 0.9591\n",
            "Epoch 13/40\n",
            "469/469 [==============================] - 1s 3ms/step - loss: 0.1331 - accuracy: 0.9632 - val_loss: 0.1427 - val_accuracy: 0.9595\n",
            "Epoch 14/40\n",
            "469/469 [==============================] - 1s 3ms/step - loss: 0.1306 - accuracy: 0.9642 - val_loss: 0.1399 - val_accuracy: 0.9607\n",
            "Epoch 15/40\n",
            "469/469 [==============================] - 1s 3ms/step - loss: 0.1280 - accuracy: 0.9641 - val_loss: 0.1387 - val_accuracy: 0.9599\n",
            "Epoch 16/40\n",
            "469/469 [==============================] - 1s 3ms/step - loss: 0.1255 - accuracy: 0.9650 - val_loss: 0.1365 - val_accuracy: 0.9611\n",
            "Epoch 17/40\n",
            "469/469 [==============================] - 1s 3ms/step - loss: 0.1232 - accuracy: 0.9651 - val_loss: 0.1341 - val_accuracy: 0.9606\n",
            "Epoch 18/40\n",
            "469/469 [==============================] - 1s 3ms/step - loss: 0.1210 - accuracy: 0.9661 - val_loss: 0.1325 - val_accuracy: 0.9622\n",
            "Epoch 19/40\n",
            "469/469 [==============================] - 1s 3ms/step - loss: 0.1188 - accuracy: 0.9668 - val_loss: 0.1308 - val_accuracy: 0.9615\n",
            "Epoch 20/40\n",
            "469/469 [==============================] - 1s 3ms/step - loss: 0.1166 - accuracy: 0.9675 - val_loss: 0.1296 - val_accuracy: 0.9628\n",
            "Epoch 21/40\n",
            "469/469 [==============================] - 1s 3ms/step - loss: 0.1146 - accuracy: 0.9679 - val_loss: 0.1302 - val_accuracy: 0.9622\n",
            "Epoch 22/40\n",
            "469/469 [==============================] - 1s 3ms/step - loss: 0.1128 - accuracy: 0.9684 - val_loss: 0.1266 - val_accuracy: 0.9623\n",
            "Epoch 23/40\n",
            "469/469 [==============================] - 1s 3ms/step - loss: 0.1108 - accuracy: 0.9689 - val_loss: 0.1257 - val_accuracy: 0.9633\n",
            "Epoch 24/40\n",
            "469/469 [==============================] - 1s 3ms/step - loss: 0.1089 - accuracy: 0.9697 - val_loss: 0.1243 - val_accuracy: 0.9628\n",
            "Epoch 25/40\n",
            "469/469 [==============================] - 1s 3ms/step - loss: 0.1071 - accuracy: 0.9698 - val_loss: 0.1247 - val_accuracy: 0.9635\n",
            "Epoch 26/40\n",
            "469/469 [==============================] - 1s 3ms/step - loss: 0.1056 - accuracy: 0.9705 - val_loss: 0.1213 - val_accuracy: 0.9642\n",
            "Epoch 27/40\n",
            "469/469 [==============================] - 1s 3ms/step - loss: 0.1038 - accuracy: 0.9709 - val_loss: 0.1201 - val_accuracy: 0.9646\n",
            "Epoch 28/40\n",
            "469/469 [==============================] - 1s 3ms/step - loss: 0.1021 - accuracy: 0.9713 - val_loss: 0.1191 - val_accuracy: 0.9649\n",
            "Epoch 29/40\n",
            "469/469 [==============================] - 1s 3ms/step - loss: 0.1006 - accuracy: 0.9720 - val_loss: 0.1178 - val_accuracy: 0.9643\n",
            "Epoch 30/40\n",
            "469/469 [==============================] - 1s 3ms/step - loss: 0.0989 - accuracy: 0.9725 - val_loss: 0.1179 - val_accuracy: 0.9652\n",
            "Epoch 31/40\n",
            "469/469 [==============================] - 1s 3ms/step - loss: 0.0975 - accuracy: 0.9727 - val_loss: 0.1168 - val_accuracy: 0.9653\n",
            "Epoch 32/40\n",
            "469/469 [==============================] - 1s 3ms/step - loss: 0.0960 - accuracy: 0.9731 - val_loss: 0.1166 - val_accuracy: 0.9659\n",
            "Epoch 33/40\n",
            "469/469 [==============================] - 1s 3ms/step - loss: 0.0946 - accuracy: 0.9735 - val_loss: 0.1145 - val_accuracy: 0.9665\n",
            "Epoch 34/40\n",
            "469/469 [==============================] - 1s 3ms/step - loss: 0.0931 - accuracy: 0.9742 - val_loss: 0.1142 - val_accuracy: 0.9662\n",
            "Epoch 35/40\n",
            "469/469 [==============================] - 1s 3ms/step - loss: 0.0919 - accuracy: 0.9737 - val_loss: 0.1125 - val_accuracy: 0.9668\n",
            "Epoch 36/40\n",
            "469/469 [==============================] - 1s 3ms/step - loss: 0.0904 - accuracy: 0.9746 - val_loss: 0.1117 - val_accuracy: 0.9665\n",
            "Epoch 37/40\n",
            "469/469 [==============================] - 1s 3ms/step - loss: 0.0892 - accuracy: 0.9750 - val_loss: 0.1122 - val_accuracy: 0.9665\n",
            "Epoch 38/40\n",
            "469/469 [==============================] - 1s 3ms/step - loss: 0.0879 - accuracy: 0.9755 - val_loss: 0.1093 - val_accuracy: 0.9668\n",
            "Epoch 39/40\n",
            "469/469 [==============================] - 1s 3ms/step - loss: 0.0866 - accuracy: 0.9761 - val_loss: 0.1096 - val_accuracy: 0.9674\n",
            "Epoch 40/40\n",
            "469/469 [==============================] - 1s 3ms/step - loss: 0.0856 - accuracy: 0.9759 - val_loss: 0.1077 - val_accuracy: 0.9677\n"
          ],
          "name": "stdout"
        },
        {
          "output_type": "execute_result",
          "data": {
            "text/plain": [
              "<keras.callbacks.History at 0x7f28aa870510>"
            ]
          },
          "metadata": {
            "tags": []
          },
          "execution_count": 38
        }
      ]
    },
    {
      "cell_type": "code",
      "metadata": {
        "id": "nePT_Aey35Tv",
        "outputId": "f69a9b91-ca1d-44a3-e3f8-3afc9322675a",
        "colab": {
          "base_uri": "https://localhost:8080/"
        }
      },
      "source": [
        "model.evaluate(X_valid, y_valid)"
      ],
      "execution_count": 35,
      "outputs": [
        {
          "output_type": "stream",
          "text": [
            "313/313 [==============================] - 0s 1ms/step - loss: 0.1805 - accuracy: 0.9475\n"
          ],
          "name": "stdout"
        },
        {
          "output_type": "execute_result",
          "data": {
            "text/plain": [
              "[0.18046455085277557, 0.9474999904632568]"
            ]
          },
          "metadata": {
            "tags": []
          },
          "execution_count": 35
        }
      ]
    },
    {
      "cell_type": "code",
      "metadata": {
        "id": "r5ScQChrMjsN",
        "outputId": "e308173f-b631-4ff0-a8fe-a3dbf94ae433",
        "colab": {
          "base_uri": "https://localhost:8080/"
        }
      },
      "source": [
        "y_valid[0]"
      ],
      "execution_count": 36,
      "outputs": [
        {
          "output_type": "execute_result",
          "data": {
            "text/plain": [
              "array([0., 0., 0., 0., 0., 0., 0., 1., 0., 0.], dtype=float32)"
            ]
          },
          "metadata": {
            "tags": []
          },
          "execution_count": 36
        }
      ]
    },
    {
      "cell_type": "code",
      "metadata": {
        "id": "610ifuogMnW5",
        "outputId": "e1b6179b-365a-422b-d5e9-aed69e7e8d9e",
        "colab": {
          "base_uri": "https://localhost:8080/"
        }
      },
      "source": [
        "model.predict(X_valid[0].reshape(1,-1))"
      ],
      "execution_count": 37,
      "outputs": [
        {
          "output_type": "execute_result",
          "data": {
            "text/plain": [
              "array([[3.8400735e-04, 2.5121278e-07, 3.3918810e-03, 2.7876794e-03,\n",
              "        1.1640674e-07, 1.7369426e-04, 1.8254622e-09, 9.9314636e-01,\n",
              "        3.8872195e-06, 1.1216908e-04]], dtype=float32)"
            ]
          },
          "metadata": {
            "tags": []
          },
          "execution_count": 37
        }
      ]
    }
  ]
}